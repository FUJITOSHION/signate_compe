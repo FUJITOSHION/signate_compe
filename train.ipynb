{
  "nbformat": 4,
  "nbformat_minor": 0,
  "metadata": {
    "colab": {
      "name": "train.ipynb",
      "provenance": [],
      "collapsed_sections": [],
      "mount_file_id": "1-qy3SBtEG5mFKdN8kMBnS4sVRU7I-vKB",
      "authorship_tag": "ABX9TyNqkzPmF/rAq4969kFoTqRH",
      "include_colab_link": true
    },
    "kernelspec": {
      "name": "python3",
      "display_name": "Python 3"
    }
  },
  "cells": [
    {
      "cell_type": "markdown",
      "metadata": {
        "id": "view-in-github",
        "colab_type": "text"
      },
      "source": [
        "<a href=\"https://colab.research.google.com/github/FUJITOSHION/signate_compe/blob/master/train.ipynb\" target=\"_parent\"><img src=\"https://colab.research.google.com/assets/colab-badge.svg\" alt=\"Open In Colab\"/></a>"
      ]
    },
    {
      "cell_type": "code",
      "metadata": {
        "id": "FazJCYMSADyM"
      },
      "source": [
        "import pandas as pd\n",
        "import numpy as np\n",
        "import datetime\n",
        "import random\n",
        "from tqdm import tqdm\n",
        "import lightgbm as lgb\n",
        "from sklearn.preprocessing import LabelEncoder\n",
        "from sklearn.model_selection import train_test_split"
      ],
      "execution_count": null,
      "outputs": []
    },
    {
      "cell_type": "code",
      "metadata": {
        "id": "XcVrup6MbhNt"
      },
      "source": [
        "def fix_seed(seed):\n",
        "    np.random.seed(seed=seed)\n",
        "    random.seed(seed)\n",
        "\n",
        "seed=121\n",
        "fix_seed(seed)"
      ],
      "execution_count": null,
      "outputs": []
    },
    {
      "cell_type": "code",
      "metadata": {
        "id": "q1GJgUlhUWBU"
      },
      "source": [
        "train_data = pd.read_csv('/content/drive/MyDrive/train/data/train.csv')\n",
        "test_data = pd.read_csv('/content/drive/MyDrive/train/data/test.csv')\n",
        "info_data = pd.read_csv('/content/drive/MyDrive/train/data/info.csv')\n",
        "network = pd.read_csv('/content/drive/MyDrive/train/data/network.csv')"
      ],
      "execution_count": null,
      "outputs": []
    },
    {
      "cell_type": "code",
      "metadata": {
        "id": "z2ZI0CPD6CxE"
      },
      "source": [
        "train_data['target'] = 0\n",
        "data = pd.concat([train_data, test_data], axis=0).reset_index().drop(['index'], axis=1)\n",
        "# infoを結合（前処理が必要）"
      ],
      "execution_count": null,
      "outputs": []
    },
    {
      "cell_type": "code",
      "metadata": {
        "id": "09VcIw_B6C6I"
      },
      "source": [
        "def date_split(df:pd.DataFrame):\n",
        "    df['date'] = df['date'].astype(str)\n",
        "    df['year'] = df['date'].apply(lambda x: x[:4]).astype(int)\n",
        "    df['month'] = df['date'].apply(lambda x: x[4:6]).astype(int)\n",
        "    df['day'] = df['date'].apply(lambda x: x[6:8]).astype(int)\n",
        "    data['hour'] = data['planArrival'].apply(lambda x: x[:2])\n",
        "    data['second'] = data['planArrival'].apply(lambda x: x[3:])\n",
        "    data['hour'] = data['hour'].apply(lambda x: int(x[1]) if '0' in x[0] else int(x))\n",
        "    data['second'] = data['second'].apply(lambda x: int(x[1]) if '0' in x[0] else int(x))\n",
        "    return df"
      ],
      "execution_count": null,
      "outputs": []
    },
    {
      "cell_type": "code",
      "metadata": {
        "id": "jW0tr5Yi5O9R"
      },
      "source": [
        "def make_lag(df, lag):\n",
        "    name = 'lag_' + str(lag)\n",
        "    data[name] = data['delayTime'].shift(lag)\n",
        "\n",
        "    for i in range(len(df)):\n",
        "        if i - lag <0:\n",
        "            continue\n",
        "        be_train = data.at[i-lag, 'trainNo']\n",
        "        now_train = data.at[i, 'trainNo']\n",
        "\n",
        "        if be_train != now_train:\n",
        "            data.at[i, name] = np.nan\n",
        "\n",
        "    return df"
      ],
      "execution_count": null,
      "outputs": []
    },
    {
      "cell_type": "code",
      "metadata": {
        "colab": {
          "base_uri": "https://localhost:8080/"
        },
        "id": "lIohB9lx9wV8",
        "outputId": "93bbb292-c286-4d08-fb6c-aa5ca7709a4b"
      },
      "source": [
        "# time split\n",
        "data = date_split(data)\n",
        "\n",
        "# make tag\n",
        "max_lag = 5\n",
        "for i in tqdm(range(1, max_lag)):\n",
        "    data = make_lag(data, i)\n",
        "\n",
        "# データ分割\n",
        "train_len = len(train_data)\n",
        "test = data[train_len :]\n",
        "train = data[: train_len]"
      ],
      "execution_count": null,
      "outputs": [
        {
          "output_type": "stream",
          "text": [
            "\n",
            "  0%|          | 0/4 [00:00<?, ?it/s]\u001b[A\n",
            " 25%|██▌       | 1/4 [01:14<03:42, 74.13s/it]\u001b[A\n",
            " 50%|█████     | 2/4 [02:30<02:29, 74.91s/it]\u001b[A\n",
            " 75%|███████▌  | 3/4 [03:48<01:15, 75.81s/it]\u001b[A\n",
            "100%|██████████| 4/4 [05:13<00:00, 78.37s/it]\n"
          ],
          "name": "stderr"
        }
      ]
    },
    {
      "cell_type": "code",
      "metadata": {
        "id": "07UJXyyeIRF8"
      },
      "source": [
        "lc = LabelEncoder()\n",
        "# data = pd.concat([train_data, test_data])\n",
        "data['lineName'] = lc.fit_transform(data['lineName'])\n",
        "data['directionCode'] = lc.fit_transform(data['directionCode'])\n",
        "data['trainNo'] = lc.fit_transform(data['trainNo'])\n",
        "data['stopStation'] = lc.fit_transform(data['stopStation'])\n",
        "del data['planArrival']\n",
        "del data['id']\n",
        "del data['date']"
      ],
      "execution_count": null,
      "outputs": []
    },
    {
      "cell_type": "code",
      "metadata": {
        "id": "6h2SELMiEFLD"
      },
      "source": [
        "# データ分割\n",
        "train_len = len(train_data)\n",
        "test = data[train_len :]\n",
        "train = data[: train_len]"
      ],
      "execution_count": null,
      "outputs": []
    },
    {
      "cell_type": "code",
      "metadata": {
        "id": "pHqtel4CBz9U"
      },
      "source": [
        "train = train.fillna(method='bfill')\n",
        "del train['target']\n",
        "train, val = train_test_split(train, random_state = seed)"
      ],
      "execution_count": null,
      "outputs": []
    },
    {
      "cell_type": "code",
      "metadata": {
        "id": "y86DwIFpGN2M"
      },
      "source": [
        "train_y = train['delayTime']\n",
        "train_x = train.drop(['delayTime'], axis = 1)\n",
        "\n",
        "val_y= val['delayTime']\n",
        "val_x = val.drop(['delayTime'], axis = 1)\n",
        "params = {\n",
        "        'task' : 'train',\n",
        "        'boosting':'gbdt',\n",
        "        'objective' : 'regression',\n",
        "        'metric' : {'mae'},\n",
        "        'num_leaves':78,\n",
        "        'drop_rate':0.05,\n",
        "        'learning_rate':0.01,\n",
        "        'seed':seed,\n",
        "        'verbose':0,\n",
        "        'device': 'cpu'\n",
        "}\n",
        "lgb_train = lgb.Dataset(train_x, train_y)\n",
        "lgb_eval = lgb.Dataset(val_x, val_y, reference=lgb_train)\n",
        "\n",
        "evaluation_results = {}\n",
        "lgbm = lgb.train(params,\n",
        "                lgb_train,\n",
        "                num_boost_round=3000,\n",
        "                valid_sets=[lgb_train, lgb_eval],\n",
        "                valid_names=['train', 'val'],\n",
        "                evals_result=evaluation_results,\n",
        "                early_stopping_rounds=300,\n",
        "                verbose_eval=100)"
      ],
      "execution_count": null,
      "outputs": []
    },
    {
      "cell_type": "code",
      "metadata": {
        "id": "PUYuu7u3GN4i"
      },
      "source": [
        "test_data = test.query('target == 1')\n",
        "del test_data['delayTime']\n",
        "del test_data['target']"
      ],
      "execution_count": null,
      "outputs": []
    },
    {
      "cell_type": "code",
      "metadata": {
        "id": "gLVmxdsTYPqx"
      },
      "source": [
        "test_data = test_data.reset_index()"
      ],
      "execution_count": null,
      "outputs": []
    },
    {
      "cell_type": "code",
      "metadata": {
        "id": "Hh9FClRtZTqX"
      },
      "source": [
        "del test_data['level_0']"
      ],
      "execution_count": null,
      "outputs": []
    },
    {
      "cell_type": "code",
      "metadata": {
        "id": "Xci98Js-ZcxO"
      },
      "source": [
        "del test_data['index']"
      ],
      "execution_count": null,
      "outputs": []
    },
    {
      "cell_type": "code",
      "metadata": {
        "colab": {
          "base_uri": "https://localhost:8080/",
          "height": 419
        },
        "id": "oT-qNl-8Zh2n",
        "outputId": "3e266b8f-bc4c-430f-c8d0-2d0039e15ef1"
      },
      "source": [
        "test_data"
      ],
      "execution_count": null,
      "outputs": [
        {
          "output_type": "execute_result",
          "data": {
            "text/html": [
              "<div>\n",
              "<style scoped>\n",
              "    .dataframe tbody tr th:only-of-type {\n",
              "        vertical-align: middle;\n",
              "    }\n",
              "\n",
              "    .dataframe tbody tr th {\n",
              "        vertical-align: top;\n",
              "    }\n",
              "\n",
              "    .dataframe thead th {\n",
              "        text-align: right;\n",
              "    }\n",
              "</style>\n",
              "<table border=\"1\" class=\"dataframe\">\n",
              "  <thead>\n",
              "    <tr style=\"text-align: right;\">\n",
              "      <th></th>\n",
              "      <th>lineName</th>\n",
              "      <th>directionCode</th>\n",
              "      <th>trainNo</th>\n",
              "      <th>stopStation</th>\n",
              "      <th>year</th>\n",
              "      <th>month</th>\n",
              "      <th>day</th>\n",
              "      <th>hour</th>\n",
              "      <th>second</th>\n",
              "      <th>lag_1</th>\n",
              "      <th>lag_2</th>\n",
              "      <th>lag_3</th>\n",
              "      <th>lag_4</th>\n",
              "    </tr>\n",
              "  </thead>\n",
              "  <tbody>\n",
              "    <tr>\n",
              "      <th>0</th>\n",
              "      <td>0</td>\n",
              "      <td>0</td>\n",
              "      <td>177</td>\n",
              "      <td>61</td>\n",
              "      <td>2019</td>\n",
              "      <td>12</td>\n",
              "      <td>1</td>\n",
              "      <td>18</td>\n",
              "      <td>2</td>\n",
              "      <td>3.000000</td>\n",
              "      <td>2.000000</td>\n",
              "      <td>3.000000</td>\n",
              "      <td>3.000000</td>\n",
              "    </tr>\n",
              "    <tr>\n",
              "      <th>1</th>\n",
              "      <td>0</td>\n",
              "      <td>0</td>\n",
              "      <td>177</td>\n",
              "      <td>34</td>\n",
              "      <td>2019</td>\n",
              "      <td>12</td>\n",
              "      <td>1</td>\n",
              "      <td>18</td>\n",
              "      <td>4</td>\n",
              "      <td>2.006346</td>\n",
              "      <td>3.000000</td>\n",
              "      <td>2.000000</td>\n",
              "      <td>3.000000</td>\n",
              "    </tr>\n",
              "    <tr>\n",
              "      <th>2</th>\n",
              "      <td>0</td>\n",
              "      <td>0</td>\n",
              "      <td>177</td>\n",
              "      <td>51</td>\n",
              "      <td>2019</td>\n",
              "      <td>12</td>\n",
              "      <td>1</td>\n",
              "      <td>18</td>\n",
              "      <td>6</td>\n",
              "      <td>3.531146</td>\n",
              "      <td>2.006346</td>\n",
              "      <td>3.000000</td>\n",
              "      <td>2.000000</td>\n",
              "    </tr>\n",
              "    <tr>\n",
              "      <th>3</th>\n",
              "      <td>0</td>\n",
              "      <td>0</td>\n",
              "      <td>177</td>\n",
              "      <td>39</td>\n",
              "      <td>2019</td>\n",
              "      <td>12</td>\n",
              "      <td>1</td>\n",
              "      <td>18</td>\n",
              "      <td>8</td>\n",
              "      <td>5.523942</td>\n",
              "      <td>3.531146</td>\n",
              "      <td>2.006346</td>\n",
              "      <td>3.000000</td>\n",
              "    </tr>\n",
              "    <tr>\n",
              "      <th>4</th>\n",
              "      <td>0</td>\n",
              "      <td>0</td>\n",
              "      <td>177</td>\n",
              "      <td>10</td>\n",
              "      <td>2019</td>\n",
              "      <td>12</td>\n",
              "      <td>1</td>\n",
              "      <td>18</td>\n",
              "      <td>10</td>\n",
              "      <td>6.997230</td>\n",
              "      <td>5.523942</td>\n",
              "      <td>3.531146</td>\n",
              "      <td>2.006346</td>\n",
              "    </tr>\n",
              "    <tr>\n",
              "      <th>...</th>\n",
              "      <td>...</td>\n",
              "      <td>...</td>\n",
              "      <td>...</td>\n",
              "      <td>...</td>\n",
              "      <td>...</td>\n",
              "      <td>...</td>\n",
              "      <td>...</td>\n",
              "      <td>...</td>\n",
              "      <td>...</td>\n",
              "      <td>...</td>\n",
              "      <td>...</td>\n",
              "      <td>...</td>\n",
              "      <td>...</td>\n",
              "    </tr>\n",
              "    <tr>\n",
              "      <th>123270</th>\n",
              "      <td>3</td>\n",
              "      <td>1</td>\n",
              "      <td>2846</td>\n",
              "      <td>72</td>\n",
              "      <td>2020</td>\n",
              "      <td>10</td>\n",
              "      <td>21</td>\n",
              "      <td>19</td>\n",
              "      <td>52</td>\n",
              "      <td>48.337610</td>\n",
              "      <td>44.549852</td>\n",
              "      <td>48.142259</td>\n",
              "      <td>42.330878</td>\n",
              "    </tr>\n",
              "    <tr>\n",
              "      <th>123271</th>\n",
              "      <td>3</td>\n",
              "      <td>1</td>\n",
              "      <td>2846</td>\n",
              "      <td>44</td>\n",
              "      <td>2020</td>\n",
              "      <td>10</td>\n",
              "      <td>21</td>\n",
              "      <td>19</td>\n",
              "      <td>54</td>\n",
              "      <td>51.338708</td>\n",
              "      <td>48.337610</td>\n",
              "      <td>44.549852</td>\n",
              "      <td>48.142259</td>\n",
              "    </tr>\n",
              "    <tr>\n",
              "      <th>123272</th>\n",
              "      <td>3</td>\n",
              "      <td>1</td>\n",
              "      <td>2846</td>\n",
              "      <td>22</td>\n",
              "      <td>2020</td>\n",
              "      <td>10</td>\n",
              "      <td>21</td>\n",
              "      <td>19</td>\n",
              "      <td>56</td>\n",
              "      <td>NaN</td>\n",
              "      <td>51.338708</td>\n",
              "      <td>48.337610</td>\n",
              "      <td>44.549852</td>\n",
              "    </tr>\n",
              "    <tr>\n",
              "      <th>123273</th>\n",
              "      <td>3</td>\n",
              "      <td>1</td>\n",
              "      <td>2846</td>\n",
              "      <td>53</td>\n",
              "      <td>2020</td>\n",
              "      <td>10</td>\n",
              "      <td>21</td>\n",
              "      <td>19</td>\n",
              "      <td>59</td>\n",
              "      <td>NaN</td>\n",
              "      <td>NaN</td>\n",
              "      <td>51.338708</td>\n",
              "      <td>48.337610</td>\n",
              "    </tr>\n",
              "    <tr>\n",
              "      <th>123274</th>\n",
              "      <td>3</td>\n",
              "      <td>1</td>\n",
              "      <td>2969</td>\n",
              "      <td>77</td>\n",
              "      <td>2020</td>\n",
              "      <td>10</td>\n",
              "      <td>21</td>\n",
              "      <td>19</td>\n",
              "      <td>1</td>\n",
              "      <td>0.000000</td>\n",
              "      <td>0.000000</td>\n",
              "      <td>0.000000</td>\n",
              "      <td>0.000000</td>\n",
              "    </tr>\n",
              "  </tbody>\n",
              "</table>\n",
              "<p>123275 rows × 13 columns</p>\n",
              "</div>"
            ],
            "text/plain": [
              "        lineName  directionCode  trainNo  ...      lag_2      lag_3      lag_4\n",
              "0              0              0      177  ...   2.000000   3.000000   3.000000\n",
              "1              0              0      177  ...   3.000000   2.000000   3.000000\n",
              "2              0              0      177  ...   2.006346   3.000000   2.000000\n",
              "3              0              0      177  ...   3.531146   2.006346   3.000000\n",
              "4              0              0      177  ...   5.523942   3.531146   2.006346\n",
              "...          ...            ...      ...  ...        ...        ...        ...\n",
              "123270         3              1     2846  ...  44.549852  48.142259  42.330878\n",
              "123271         3              1     2846  ...  48.337610  44.549852  48.142259\n",
              "123272         3              1     2846  ...  51.338708  48.337610  44.549852\n",
              "123273         3              1     2846  ...        NaN  51.338708  48.337610\n",
              "123274         3              1     2969  ...   0.000000   0.000000   0.000000\n",
              "\n",
              "[123275 rows x 13 columns]"
            ]
          },
          "metadata": {
            "tags": []
          },
          "execution_count": 138
        }
      ]
    },
    {
      "cell_type": "code",
      "metadata": {
        "colab": {
          "base_uri": "https://localhost:8080/"
        },
        "id": "Akp4uGTpNCdl",
        "outputId": "78cb9c19-d1d6-4ed9-95f0-3ec202b8d31f"
      },
      "source": [
        "preds = []\n",
        "for j in range(len(test_data)):\n",
        "    if j+4 == 123274:\n",
        "        break\n",
        "    n_train = test_data.at[j, 'trainNo']\n",
        "    a_train = test_data.at[j+1, 'trainNo']\n",
        "    b_train = test_data.at[j+2, 'trainNo']\n",
        "    c_train = test_data.at[j+3, 'trainNo']\n",
        "    d_train = test_data.at[j+4, 'trainNo']\n",
        "\n",
        "    pred = lgbm.predict(test_data.iloc[j,:])\n",
        "    preds.append(pred)\n",
        "    \n",
        "    if n_train == a_train:\n",
        "        test_data.at[j+1, 'lag_1'] = pred\n",
        "\n",
        "        if n_train == b_train:\n",
        "            test_data.at[j+2, 'lag_2'] = pred\n",
        "\n",
        "            if n_train == c_train:\n",
        "                test_data.at[j+3, 'lag_3'] = pred\n",
        "                \n",
        "                if n_train == d_train:\n",
        "                    test_data.at[j+4, 'lag_4'] = pred\n"
      ],
      "execution_count": null,
      "outputs": [
        {
          "output_type": "stream",
          "text": [
            "/usr/local/lib/python3.6/dist-packages/lightgbm/basic.py:478: UserWarning: Converting data to scipy sparse matrix.\n",
            "  warnings.warn('Converting data to scipy sparse matrix.')\n"
          ],
          "name": "stderr"
        }
      ]
    },
    {
      "cell_type": "code",
      "metadata": {
        "colab": {
          "base_uri": "https://localhost:8080/",
          "height": 204
        },
        "id": "Fw7Of6uJJXMW",
        "outputId": "d3e45865-b6e1-4450-e124-fe79b6fd7647"
      },
      "source": [
        "test_data.tail()"
      ],
      "execution_count": null,
      "outputs": [
        {
          "output_type": "execute_result",
          "data": {
            "text/html": [
              "<div>\n",
              "<style scoped>\n",
              "    .dataframe tbody tr th:only-of-type {\n",
              "        vertical-align: middle;\n",
              "    }\n",
              "\n",
              "    .dataframe tbody tr th {\n",
              "        vertical-align: top;\n",
              "    }\n",
              "\n",
              "    .dataframe thead th {\n",
              "        text-align: right;\n",
              "    }\n",
              "</style>\n",
              "<table border=\"1\" class=\"dataframe\">\n",
              "  <thead>\n",
              "    <tr style=\"text-align: right;\">\n",
              "      <th></th>\n",
              "      <th>lineName</th>\n",
              "      <th>directionCode</th>\n",
              "      <th>trainNo</th>\n",
              "      <th>stopStation</th>\n",
              "      <th>year</th>\n",
              "      <th>month</th>\n",
              "      <th>day</th>\n",
              "      <th>hour</th>\n",
              "      <th>second</th>\n",
              "      <th>lag_1</th>\n",
              "      <th>lag_2</th>\n",
              "      <th>lag_3</th>\n",
              "      <th>lag_4</th>\n",
              "    </tr>\n",
              "  </thead>\n",
              "  <tbody>\n",
              "    <tr>\n",
              "      <th>123270</th>\n",
              "      <td>3</td>\n",
              "      <td>1</td>\n",
              "      <td>2846</td>\n",
              "      <td>72</td>\n",
              "      <td>2020</td>\n",
              "      <td>10</td>\n",
              "      <td>21</td>\n",
              "      <td>19</td>\n",
              "      <td>52</td>\n",
              "      <td>1.134888</td>\n",
              "      <td>0.638524</td>\n",
              "      <td>1.080021</td>\n",
              "      <td>0.732004</td>\n",
              "    </tr>\n",
              "    <tr>\n",
              "      <th>123271</th>\n",
              "      <td>3</td>\n",
              "      <td>1</td>\n",
              "      <td>2846</td>\n",
              "      <td>44</td>\n",
              "      <td>2020</td>\n",
              "      <td>10</td>\n",
              "      <td>21</td>\n",
              "      <td>19</td>\n",
              "      <td>54</td>\n",
              "      <td>0.875991</td>\n",
              "      <td>1.134888</td>\n",
              "      <td>0.638524</td>\n",
              "      <td>1.080021</td>\n",
              "    </tr>\n",
              "    <tr>\n",
              "      <th>123272</th>\n",
              "      <td>3</td>\n",
              "      <td>1</td>\n",
              "      <td>2846</td>\n",
              "      <td>22</td>\n",
              "      <td>2020</td>\n",
              "      <td>10</td>\n",
              "      <td>21</td>\n",
              "      <td>19</td>\n",
              "      <td>56</td>\n",
              "      <td>NaN</td>\n",
              "      <td>0.875991</td>\n",
              "      <td>1.134888</td>\n",
              "      <td>0.638524</td>\n",
              "    </tr>\n",
              "    <tr>\n",
              "      <th>123273</th>\n",
              "      <td>3</td>\n",
              "      <td>1</td>\n",
              "      <td>2846</td>\n",
              "      <td>53</td>\n",
              "      <td>2020</td>\n",
              "      <td>10</td>\n",
              "      <td>21</td>\n",
              "      <td>19</td>\n",
              "      <td>59</td>\n",
              "      <td>NaN</td>\n",
              "      <td>NaN</td>\n",
              "      <td>0.875991</td>\n",
              "      <td>1.134888</td>\n",
              "    </tr>\n",
              "    <tr>\n",
              "      <th>123274</th>\n",
              "      <td>3</td>\n",
              "      <td>1</td>\n",
              "      <td>2969</td>\n",
              "      <td>77</td>\n",
              "      <td>2020</td>\n",
              "      <td>10</td>\n",
              "      <td>21</td>\n",
              "      <td>19</td>\n",
              "      <td>1</td>\n",
              "      <td>0.000000</td>\n",
              "      <td>0.000000</td>\n",
              "      <td>0.000000</td>\n",
              "      <td>0.000000</td>\n",
              "    </tr>\n",
              "  </tbody>\n",
              "</table>\n",
              "</div>"
            ],
            "text/plain": [
              "        lineName  directionCode  trainNo  ...     lag_2     lag_3     lag_4\n",
              "123270         3              1     2846  ...  0.638524  1.080021  0.732004\n",
              "123271         3              1     2846  ...  1.134888  0.638524  1.080021\n",
              "123272         3              1     2846  ...  0.875991  1.134888  0.638524\n",
              "123273         3              1     2846  ...       NaN  0.875991  1.134888\n",
              "123274         3              1     2969  ...  0.000000  0.000000  0.000000\n",
              "\n",
              "[5 rows x 13 columns]"
            ]
          },
          "metadata": {
            "tags": []
          },
          "execution_count": 149
        }
      ]
    },
    {
      "cell_type": "code",
      "metadata": {
        "colab": {
          "base_uri": "https://localhost:8080/"
        },
        "id": "nDfpy3GpcKfx",
        "outputId": "f9957465-ab01-47bc-a7cd-a070e2c3042c"
      },
      "source": [
        "pred = lgbm.predict(test_data.iloc[123270,:])\n",
        "preds.append(pred)\n",
        "pred = lgbm.predict(test_data.iloc[123271,:])\n",
        "test_data.at[123272,'lag_1'] = pred\n",
        "test_data.at[123273,'lag_2'] = pred\n",
        "preds.append(pred)\n",
        "pred = lgbm.predict(test_data.iloc[123272,:])\n",
        "preds.append(pred)\n",
        "test_data.at[123273,'lag_1'] = pred\n",
        "pred = lgbm.predict(test_data.iloc[123273,:])\n",
        "preds.append(pred)\n",
        "pred = lgbm.predict(test_data.iloc[123274,:])\n",
        "preds.append(pred)"
      ],
      "execution_count": null,
      "outputs": [
        {
          "output_type": "stream",
          "text": [
            "/usr/local/lib/python3.6/dist-packages/lightgbm/basic.py:478: UserWarning: Converting data to scipy sparse matrix.\n",
            "  warnings.warn('Converting data to scipy sparse matrix.')\n"
          ],
          "name": "stderr"
        }
      ]
    },
    {
      "cell_type": "code",
      "metadata": {
        "id": "mXBNVAH4edRo"
      },
      "source": [
        "test_datas = pd.read_csv('/content/drive/MyDrive/train/data/test.csv')\n",
        "test_id = test_datas.query('target == 1')\n",
        "test_id = test_id['id']\n",
        "a = [float(i) for i in preds]\n",
        "submit = pd.DataFrame({'id':test_id, 'y':a})\n",
        "submit['y'] = submit['y'].apply(lambda x: 0 if x < 0.9 else x)\n",
        "submit['y'] = submit['y'].apply(lambda x: 0 if 0 > x else x)\n",
        "now = datetime.datetime.now()\n",
        "submit.to_csv('now'+str(now)+'.csv', index = None, header=None)"
      ],
      "execution_count": null,
      "outputs": []
    },
    {
      "cell_type": "code",
      "metadata": {
        "colab": {
          "base_uri": "https://localhost:8080/"
        },
        "id": "fBH0MuDZJXT1",
        "outputId": "60e55111-528e-49ec-80dd-652dfc7087e3"
      },
      "source": [
        "print(sum(submit['y'])/len(submit), sum(train['delayTime'])/len(train))"
      ],
      "execution_count": null,
      "outputs": [
        {
          "output_type": "stream",
          "text": [
            "1.256060106635205 1.2105397958023145\n"
          ],
          "name": "stdout"
        }
      ]
    },
    {
      "cell_type": "code",
      "metadata": {
        "id": "MVi4hXZ0GN6S"
      },
      "source": [
        ""
      ],
      "execution_count": null,
      "outputs": []
    },
    {
      "cell_type": "code",
      "metadata": {
        "id": "ZtRJbvw6GN8a"
      },
      "source": [
        ""
      ],
      "execution_count": null,
      "outputs": []
    },
    {
      "cell_type": "code",
      "metadata": {
        "id": "GLkcgd2SAnGE"
      },
      "source": [
        ""
      ],
      "execution_count": null,
      "outputs": []
    },
    {
      "cell_type": "code",
      "metadata": {
        "id": "vr3mp7ZMAnEF"
      },
      "source": [
        ""
      ],
      "execution_count": null,
      "outputs": []
    },
    {
      "cell_type": "code",
      "metadata": {
        "id": "NWfaHeBEAnCQ"
      },
      "source": [
        ""
      ],
      "execution_count": null,
      "outputs": []
    },
    {
      "cell_type": "code",
      "metadata": {
        "id": "SPSB_dafAm-5"
      },
      "source": [
        ""
      ],
      "execution_count": null,
      "outputs": []
    },
    {
      "cell_type": "code",
      "metadata": {
        "id": "KbrZ-ufp6C8P"
      },
      "source": [
        ""
      ],
      "execution_count": null,
      "outputs": []
    },
    {
      "cell_type": "code",
      "metadata": {
        "id": "NRp3IlkL6C-e"
      },
      "source": [
        ""
      ],
      "execution_count": null,
      "outputs": []
    },
    {
      "cell_type": "code",
      "metadata": {
        "id": "uqAOGbE76DA1"
      },
      "source": [
        ""
      ],
      "execution_count": null,
      "outputs": []
    },
    {
      "cell_type": "code",
      "metadata": {
        "id": "5KtnjScz6DDJ"
      },
      "source": [
        ""
      ],
      "execution_count": null,
      "outputs": []
    },
    {
      "cell_type": "code",
      "metadata": {
        "id": "gKWjJn8N6DFg"
      },
      "source": [
        ""
      ],
      "execution_count": null,
      "outputs": []
    },
    {
      "cell_type": "code",
      "metadata": {
        "id": "VRP3AizF6DH5"
      },
      "source": [
        ""
      ],
      "execution_count": null,
      "outputs": []
    },
    {
      "cell_type": "code",
      "metadata": {
        "id": "XxdzwQQp6DMi"
      },
      "source": [
        ""
      ],
      "execution_count": null,
      "outputs": []
    },
    {
      "cell_type": "code",
      "metadata": {
        "id": "LgEzf1d26DOv"
      },
      "source": [
        ""
      ],
      "execution_count": null,
      "outputs": []
    },
    {
      "cell_type": "code",
      "metadata": {
        "id": "itX78fP36DRA"
      },
      "source": [
        ""
      ],
      "execution_count": null,
      "outputs": []
    }
  ]
}